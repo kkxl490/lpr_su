{
 "cells": [
  {
   "cell_type": "markdown",
   "metadata": {},
   "source": [
    "#### anaconda环境配置地址\n",
    "-Anaconda:     https://www.anaconda.com/\n",
    "-Python Whl:   https://www.lfd.uci.edu/~gohlke/pythonlibs/#opencv\n",
    "-eclipse或者pycharm 随自己喜好 有debug功能就好\n",
    "\n",
    "\n",
    "\n"
   ]
  },
  {
   "cell_type": "markdown",
   "metadata": {},
   "source": [
    "数据读取-图像\n",
    "·cv2.IMREAD_COLOR : 彩色图像\n",
    "·cv2.IMREAD_GRAYSCALE : 灰度图像"
   ]
  }
 ],
 "metadata": {
  "kernelspec": {
   "display_name": "Python 3",
   "language": "python",
   "name": "python3"
  },
  "language_info": {
   "codemirror_mode": {
    "name": "ipython",
    "version": 3
   },
   "file_extension": ".py",
   "mimetype": "text/x-python",
   "name": "python",
   "nbconvert_exporter": "python",
   "pygments_lexer": "ipython3",
   "version": "3.6.5"
  }
 },
 "nbformat": 4,
 "nbformat_minor": 2
}
